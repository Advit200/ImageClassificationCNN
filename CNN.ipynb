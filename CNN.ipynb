{
 "cells": [
  {
   "cell_type": "code",
   "execution_count": 16,
   "metadata": {
    "id": "gZ8R8nPtEvgh"
   },
   "outputs": [],
   "source": [
    "import tensorflow as tf\n",
    "from keras.preprocessing.image import ImageDataGenerator"
   ]
  },
  {
   "cell_type": "code",
   "execution_count": 17,
   "metadata": {
    "id": "jDdldNO9IacR"
   },
   "outputs": [],
   "source": [
    "# We preprocess only the images in the training set and not the test set.The reason we do preprocessing on train dataset is to avoid overfitting .\n",
    "# or else our model will perform very good during training but fails badly during testing .This concept is used to avoid overfitting only in Computer vision . \n",
    "# We apply different transformation like rotating,zoom in ,zoom out ,inverting etc.This is called Image Augmentation and is basically done to avoid over learning of CNN."
   ]
  },
  {
   "cell_type": "code",
   "execution_count": 18,
   "metadata": {
    "id": "zMLfKsN0LRT6"
   },
   "outputs": [],
   "source": [
    "train_datagen = ImageDataGenerator(\n",
    "        rescale=1./255,\n",
    "        shear_range=0.2,\n",
    "        zoom_range=0.2,\n",
    "        horizontal_flip=True)\n",
    "\n",
    "# rescale option will do the same thing as minmaxscaler/feature normalization\n",
    "# i.e take all the pixels and normalise it btw 0 and 1 and this is very important to do for any NN."
   ]
  },
  {
   "cell_type": "code",
   "execution_count": 19,
   "metadata": {
    "id": "Ek2zVfpDMPzl"
   },
   "outputs": [
    {
     "name": "stdout",
     "output_type": "stream",
     "text": [
      "Found 8000 images belonging to 2 classes.\n"
     ]
    }
   ],
   "source": [
    "training_set = train_datagen.flow_from_directory(\n",
    "        'training_set',\n",
    "        target_size=(64,64),\n",
    "        batch_size=32,\n",
    "        class_mode='binary')\n",
    "\n",
    "# Here as our dataset folder has images of cat and dog seperated and kept inside cat and dog folder respectively,\n",
    "# when we call the above flow_from_directory function automatically keras will find out that there are two classes/sub directory here and name as 0 and 1.\n",
    "# This can be found using \"training_set.class_indices\".So using CNN for classification is a supervised learning problem.\n",
    "# We can explictily define classs also by providing \"classes\" argument.\n",
    "# https://faroit.com/keras-docs/1.2.0/preprocessing/image/#imagedatagenerator"
   ]
  },
  {
   "cell_type": "code",
   "execution_count": 20,
   "metadata": {
    "id": "4lIFT2LFM_pm"
   },
   "outputs": [],
   "source": [
    "# For testing set ,we are not applying any transformation but only feature scaling which is important.\n",
    "\n",
    "test_datagen = ImageDataGenerator(rescale=1./255)"
   ]
  },
  {
   "cell_type": "code",
   "execution_count": 21,
   "metadata": {
    "id": "w8SfTKfaNjFy"
   },
   "outputs": [
    {
     "name": "stdout",
     "output_type": "stream",
     "text": [
      "Found 2000 images belonging to 2 classes.\n"
     ]
    }
   ],
   "source": [
    "test_set = test_datagen.flow_from_directory(\n",
    "        'test_set',\n",
    "        target_size=(64,64),\n",
    "        batch_size=32,\n",
    "        class_mode='binary')"
   ]
  },
  {
   "cell_type": "code",
   "execution_count": 22,
   "metadata": {
    "id": "c3o8eXneD6t-"
   },
   "outputs": [],
   "source": [
    "cnn = tf.keras.models.Sequential()"
   ]
  },
  {
   "cell_type": "code",
   "execution_count": 23,
   "metadata": {
    "id": "W-1eAaRBEcQV"
   },
   "outputs": [],
   "source": [
    "cnn.add(tf.keras.layers.Conv2D(filters=32,kernel_size=3,activation=\"relu\",input_shape=[64,64,3]))\n",
    "\n",
    "# filters is the number of feature detector we want to have(This number can be tunned during hyper parameter tunning) . kernel_size is the shape of the matrix/filter, so 3 means 3x3 matrix.As this is the first layer , we will keep activation function as relu.\n",
    "# Input_shape tells the size of the input images , as we have transformed our images to 64x64 ,we will provide that here.3 means the images are RGB ,for black and white images we give 1 there instead of 3."
   ]
  },
  {
   "cell_type": "code",
   "execution_count": 24,
   "metadata": {
    "id": "nCjMn4w8FECM"
   },
   "outputs": [],
   "source": [
    "cnn.add(tf.keras.layers.MaxPooling2D(pool_size=2 , strides=2))\n",
    "\n",
    "# pool_size is the shape of the matrix what we will use for pooling . 2 means 2x2 matrix.\n",
    "# strides=2 means move the pool matrix 2 pixle in each step."
   ]
  },
  {
   "cell_type": "code",
   "execution_count": 25,
   "metadata": {
    "id": "7wtUxbaiFFhu"
   },
   "outputs": [],
   "source": [
    "# Adding second convolutional layer .This time we will not provide the input_shape parameter as it is only needed in the first input layer.\n",
    "\n",
    "cnn.add(tf.keras.layers.Conv2D(filters=32,kernel_size=3,activation=\"relu\"))\n",
    "cnn.add(tf.keras.layers.MaxPooling2D(pool_size=2 , strides=2))"
   ]
  },
  {
   "cell_type": "code",
   "execution_count": 26,
   "metadata": {
    "id": "0prNOoPQJWzz"
   },
   "outputs": [],
   "source": [
    "cnn.add(tf.keras.layers.Flatten()) \n",
    "\n",
    "# No need to provide any parameter ,keras will automatically understand that we mean to flatten the output of the above conv layers."
   ]
  },
  {
   "cell_type": "code",
   "execution_count": 27,
   "metadata": {
    "id": "Qm2DwOqIJqvi"
   },
   "outputs": [],
   "source": [
    "# Now we will connect all the conv layers, pooling and flatten to main NN. As computer vision is a complex problem , we give units as 128.\n",
    "\n",
    "cnn.add(tf.keras.layers.Dense(units=128,activation=\"relu\"))"
   ]
  },
  {
   "cell_type": "code",
   "execution_count": 28,
   "metadata": {
    "id": "EJsG4qBYKK2y"
   },
   "outputs": [],
   "source": [
    "cnn.add(tf.keras.layers.Dense(units=1,activation=\"sigmoid\"))\n",
    "\n",
    "# As we are dealing with a binary classfication ,ie.dog or cat ,we give unit as 1 for the ouput layer and activation as sigmoid ,which would have been softmax \n",
    "# if we were dealing with multi class classification problem."
   ]
  },
  {
   "cell_type": "code",
   "execution_count": 29,
   "metadata": {
    "id": "MLV7lGzrLFi4"
   },
   "outputs": [],
   "source": [
    "cnn.compile(optimizer=\"adam\",loss=\"binary_crossentropy\",metrics=[\"accuracy\"])"
   ]
  },
  {
   "cell_type": "code",
   "execution_count": 30,
   "metadata": {
    "id": "2J9LfscFVC3N"
   },
   "outputs": [
    {
     "name": "stdout",
     "output_type": "stream",
     "text": [
      "Epoch 1/25\n",
      "250/250 [==============================] - 80s 319ms/step - loss: 0.6751 - accuracy: 0.5748 - val_loss: 0.6265 - val_accuracy: 0.6630\n",
      "Epoch 2/25\n",
      "250/250 [==============================] - 80s 321ms/step - loss: 0.6103 - accuracy: 0.6665 - val_loss: 0.5609 - val_accuracy: 0.7200\n",
      "Epoch 3/25\n",
      "250/250 [==============================] - 83s 332ms/step - loss: 0.5609 - accuracy: 0.7117 - val_loss: 0.5498 - val_accuracy: 0.7270\n",
      "Epoch 4/25\n",
      "250/250 [==============================] - 82s 326ms/step - loss: 0.5146 - accuracy: 0.7420 - val_loss: 0.5326 - val_accuracy: 0.7350\n",
      "Epoch 5/25\n",
      "250/250 [==============================] - 77s 307ms/step - loss: 0.4861 - accuracy: 0.7635 - val_loss: 0.5413 - val_accuracy: 0.7425\n",
      "Epoch 6/25\n",
      "250/250 [==============================] - 75s 298ms/step - loss: 0.4723 - accuracy: 0.7691 - val_loss: 0.4732 - val_accuracy: 0.7750\n",
      "Epoch 7/25\n",
      "250/250 [==============================] - 72s 289ms/step - loss: 0.4660 - accuracy: 0.7753 - val_loss: 0.4726 - val_accuracy: 0.7775\n",
      "Epoch 8/25\n",
      "250/250 [==============================] - 76s 303ms/step - loss: 0.4425 - accuracy: 0.7946 - val_loss: 0.4752 - val_accuracy: 0.7845\n",
      "Epoch 9/25\n",
      "250/250 [==============================] - 74s 295ms/step - loss: 0.4288 - accuracy: 0.8002 - val_loss: 0.4525 - val_accuracy: 0.7985\n",
      "Epoch 10/25\n",
      "250/250 [==============================] - 78s 310ms/step - loss: 0.4083 - accuracy: 0.8124 - val_loss: 0.4841 - val_accuracy: 0.7600\n",
      "Epoch 11/25\n",
      "250/250 [==============================] - 74s 295ms/step - loss: 0.3901 - accuracy: 0.8225 - val_loss: 0.5102 - val_accuracy: 0.7600\n",
      "Epoch 12/25\n",
      "250/250 [==============================] - 75s 302ms/step - loss: 0.3764 - accuracy: 0.8286 - val_loss: 0.4666 - val_accuracy: 0.7860\n",
      "Epoch 13/25\n",
      "250/250 [==============================] - 75s 301ms/step - loss: 0.3795 - accuracy: 0.8273 - val_loss: 0.4386 - val_accuracy: 0.8015\n",
      "Epoch 14/25\n",
      "250/250 [==============================] - 72s 288ms/step - loss: 0.3521 - accuracy: 0.8430 - val_loss: 0.4594 - val_accuracy: 0.8040\n",
      "Epoch 15/25\n",
      "250/250 [==============================] - 72s 288ms/step - loss: 0.3385 - accuracy: 0.8474 - val_loss: 0.4576 - val_accuracy: 0.7990\n",
      "Epoch 16/25\n",
      "250/250 [==============================] - 73s 292ms/step - loss: 0.3239 - accuracy: 0.8586 - val_loss: 0.4765 - val_accuracy: 0.7985\n",
      "Epoch 17/25\n",
      "250/250 [==============================] - 68s 271ms/step - loss: 0.3097 - accuracy: 0.8636 - val_loss: 0.4653 - val_accuracy: 0.8025\n",
      "Epoch 18/25\n",
      "250/250 [==============================] - 67s 269ms/step - loss: 0.2960 - accuracy: 0.8749 - val_loss: 0.5392 - val_accuracy: 0.7810\n",
      "Epoch 19/25\n",
      "250/250 [==============================] - 68s 270ms/step - loss: 0.2799 - accuracy: 0.8804 - val_loss: 0.4721 - val_accuracy: 0.8070\n",
      "Epoch 20/25\n",
      "250/250 [==============================] - 67s 270ms/step - loss: 0.2693 - accuracy: 0.8850 - val_loss: 0.5204 - val_accuracy: 0.7935\n",
      "Epoch 21/25\n",
      "250/250 [==============================] - 68s 270ms/step - loss: 0.2617 - accuracy: 0.8885 - val_loss: 0.5117 - val_accuracy: 0.7860\n",
      "Epoch 22/25\n",
      "250/250 [==============================] - 67s 268ms/step - loss: 0.2399 - accuracy: 0.9000 - val_loss: 0.5133 - val_accuracy: 0.7985\n",
      "Epoch 23/25\n",
      "250/250 [==============================] - 70s 280ms/step - loss: 0.2414 - accuracy: 0.9014 - val_loss: 0.5227 - val_accuracy: 0.8000\n",
      "Epoch 24/25\n",
      "250/250 [==============================] - 74s 296ms/step - loss: 0.2218 - accuracy: 0.9091 - val_loss: 0.5847 - val_accuracy: 0.7860\n",
      "Epoch 25/25\n",
      "250/250 [==============================] - 72s 287ms/step - loss: 0.1999 - accuracy: 0.9226 - val_loss: 0.5301 - val_accuracy: 0.8090\n"
     ]
    },
    {
     "data": {
      "text/plain": [
       "<tensorflow.python.keras.callbacks.History at 0x1f942d7bac8>"
      ]
     },
     "execution_count": 30,
     "metadata": {},
     "output_type": "execute_result"
    }
   ],
   "source": [
    "# In case of computer vision ,we train and evaluate the model at the same time and so we have provided validation_data in the below code.\n",
    "# So one epoch consist of training and validation both. \n",
    "\n",
    "cnn.fit(x=training_set,validation_data=test_set,epochs=25)"
   ]
  },
  {
   "cell_type": "code",
   "execution_count": 31,
   "metadata": {
    "id": "3nnrr4zIWzfi"
   },
   "outputs": [],
   "source": [
    "import numpy as np\n",
    "from keras.preprocessing import image"
   ]
  },
  {
   "cell_type": "code",
   "execution_count": 38,
   "metadata": {
    "id": "yioPmdGpW7mt"
   },
   "outputs": [],
   "source": [
    "# Size of the input images to predict method should be same as what we have used for training,i.e 64x64 \n",
    "\n",
    "test_image = image.load_img('single_prediction/cat_new.jpg',target_size=(64,64))\n",
    "\n",
    "# Now we have to convert the above PIL iamge format to 2D array as predict method expect input as an 2D array.\n",
    "\n",
    "test_image = image.img_to_array(test_image)  # Now test_image is an numpy array.Dimm :64x64x3\n",
    "\n",
    "# As we have used batch size of 32 during training ,i.e in one batch 32 images go as an input to the NN ,\n",
    "# we have to do the same thing for the input image also to use predict method over it .\n",
    "\n",
    "test_image  = np.expand_dims(test_image , axis=0)  # This will add fake dimmension.Dimm: 1x64x64x3\n",
    "\n",
    "result = cnn.predict(test_image)  # As the input is in a batch(in our case it contain only one image which has dimmension of the batch) ,\n",
    "# the ouput i.e result has dimmension of batch"
   ]
  },
  {
   "cell_type": "code",
   "execution_count": 39,
   "metadata": {
    "id": "S1YniAAzcaT-"
   },
   "outputs": [],
   "source": [
    "# result[0][0] means go to the first batch and first image/element (the only image we had)\n",
    "\n",
    "if result[0][0] > 0.5:\n",
    "  prediction = \"Dog\"\n",
    "else:\n",
    "  prediction = \"Cat\""
   ]
  },
  {
   "cell_type": "code",
   "execution_count": 40,
   "metadata": {
    "id": "wMWvalLPra0d"
   },
   "outputs": [
    {
     "name": "stdout",
     "output_type": "stream",
     "text": [
      "Dog\n"
     ]
    }
   ],
   "source": [
    "print(prediction)"
   ]
  },
  {
   "cell_type": "code",
   "execution_count": null,
   "metadata": {},
   "outputs": [],
   "source": []
  }
 ],
 "metadata": {
  "accelerator": "GPU",
  "colab": {
   "collapsed_sections": [],
   "name": "CNN.ipynb",
   "provenance": []
  },
  "kernelspec": {
   "display_name": "Python 3",
   "language": "python",
   "name": "python3"
  },
  "language_info": {
   "codemirror_mode": {
    "name": "ipython",
    "version": 3
   },
   "file_extension": ".py",
   "mimetype": "text/x-python",
   "name": "python",
   "nbconvert_exporter": "python",
   "pygments_lexer": "ipython3",
   "version": "3.7.7"
  }
 },
 "nbformat": 4,
 "nbformat_minor": 1
}
